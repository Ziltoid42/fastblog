{
 "cells": [
  {
   "cell_type": "markdown",
   "id": "c40b2f4d",
   "metadata": {},
   "source": [
    "# \"Test2\"\n",
    "> \"Awesome summary\"\n",
    "\n",
    "- toc: true\n",
    "- branch: master\n",
    "- badges: true\n",
    "- comments: true\n",
    "- author: Ziltoid\n",
    "- categories: [fastpages, jupyter]"
   ]
  },
  {
   "cell_type": "markdown",
   "id": "746a279f",
   "metadata": {},
   "source": [
    "Test of markdown text"
   ]
  },
  {
   "cell_type": "code",
   "execution_count": 1,
   "id": "e626ffbb",
   "metadata": {},
   "outputs": [
    {
     "name": "stdout",
     "output_type": "stream",
     "text": [
      "hidden input\n"
     ]
    }
   ],
   "source": [
    "#hide_input\n",
    "print(\"hidden input\")"
   ]
  },
  {
   "cell_type": "markdown",
   "id": "d0c33560",
   "metadata": {},
   "source": [
    "Test image:\n",
    "![](my_icons/test.jpg)"
   ]
  },
  {
   "cell_type": "markdown",
   "id": "f0237749",
   "metadata": {},
   "source": [
    "Gif test: :+1:!"
   ]
  }
 ],
 "metadata": {
  "kernelspec": {
   "display_name": "Python 3",
   "language": "python",
   "name": "python3"
  },
  "language_info": {
   "codemirror_mode": {
    "name": "ipython",
    "version": 3
   },
   "file_extension": ".py",
   "mimetype": "text/x-python",
   "name": "python",
   "nbconvert_exporter": "python",
   "pygments_lexer": "ipython3",
   "version": "3.8.10"
  }
 },
 "nbformat": 4,
 "nbformat_minor": 5
}
