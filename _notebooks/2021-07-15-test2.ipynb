{
 "cells": [
  {
   "cell_type": "code",
   "execution_count": null,
   "id": "62602b6f",
   "metadata": {},
   "outputs": [],
   "source": [
    "# \"Test2\"\n",
    "> \"Awesome summary\"\n",
    "\n",
    "- toc: true\n",
    "- branch: master\n",
    "- badges: true\n",
    "- comments: true\n",
    "- author: Ziltoid\n",
    "- categories: [fastpages, jupyter]"
   ]
  },
  {
   "cell_type": "markdown",
   "id": "09d5a027",
   "metadata": {},
   "source": [
    "Test of markdown text"
   ]
  },
  {
   "cell_type": "code",
   "execution_count": null,
   "id": "93ae934a",
   "metadata": {},
   "outputs": [],
   "source": [
    "#hide_input\n",
    "print(\"hidden input\")"
   ]
  },
  {
   "cell_type": "code",
   "execution_count": null,
   "id": "ab997033",
   "metadata": {},
   "outputs": [],
   "source": [
    "Test image:\n",
    "![](my_icons/test.jpg)"
   ]
  },
  {
   "cell_type": "code",
   "execution_count": null,
   "id": "901a8865",
   "metadata": {},
   "outputs": [],
   "source": [
    "Gif test: :+1:!"
   ]
  }
 ],
 "metadata": {
  "kernelspec": {
   "display_name": "Python 3",
   "language": "python",
   "name": "python3"
  },
  "language_info": {
   "codemirror_mode": {
    "name": "ipython",
    "version": 3
   },
   "file_extension": ".py",
   "mimetype": "text/x-python",
   "name": "python",
   "nbconvert_exporter": "python",
   "pygments_lexer": "ipython3",
   "version": "3.8.10"
  }
 },
 "nbformat": 4,
 "nbformat_minor": 5
}
